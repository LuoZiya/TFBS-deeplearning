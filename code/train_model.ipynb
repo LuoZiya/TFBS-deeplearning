{
 "cells": [
  {
   "cell_type": "code",
   "execution_count": 1,
   "id": "2d4259ed",
   "metadata": {},
   "outputs": [],
   "source": [
    "import pandas as pd\n",
    "import numpy as np\n",
    "import matplotlib\n",
    "import matplotlib.pyplot as plt\n",
    "from keras.layers import Dense, Dropout, LSTM, Embedding, Activation, Lambda, Bidirectional\n",
    "from keras.preprocessing.sequence import pad_sequences\n",
    "from keras.utils.vis_utils import plot_model\n",
    "from keras.models import Sequential\n",
    "from keras.callbacks import ModelCheckpoint\n",
    "import os\n",
    "import tensorflow as tf\n",
    "from keras.models import model_from_json\n",
    "from sklearn import metrics"
   ]
  },
  {
   "cell_type": "code",
   "execution_count": 2,
   "id": "e788c55e",
   "metadata": {},
   "outputs": [],
   "source": [
    "EPCOHS = 30\n",
    "BATCH_SIZE = 500 \n",
    "INPUT_DIM = 4 \n",
    "OUTPUT_DIM = 50 \n",
    "RNN_HIDDEN_DIM = 62\n",
    "DROPOUT_RATIO = 0.2 \n",
    "MAXLEN = 200 \n",
    "checkpoint_dir ='checkpoints'\n",
    "os.path.exists(checkpoint_dir)\n",
    "input_file = '../data/train.csv'"
   ]
  },
  {
   "cell_type": "code",
   "execution_count": 3,
   "id": "906e88e1",
   "metadata": {},
   "outputs": [],
   "source": [
    "def letter_to_index(letter):\n",
    "    _alphabet = 'ATGC'\n",
    "    return next((i for i, _letter in enumerate(_alphabet) if _letter == letter), None)"
   ]
  },
  {
   "cell_type": "code",
   "execution_count": 4,
   "id": "1476bdfe",
   "metadata": {},
   "outputs": [],
   "source": [
    "def load_data(test_split = 0.1, maxlen = MAXLEN):\n",
    "    print ('Loading data...')\n",
    "    df = pd.read_csv(input_file)\n",
    "    df['data'] = df['data'].apply(lambda x: [int(letter_to_index(e)) for e in x])\n",
    "    df = df.reindex(np.random.permutation(df.index))\n",
    "    train_size = int(len(df) * (1 - test_split))\n",
    "    X_train = df['data'].values[:train_size]\n",
    "    y_train = np.array(df['label'].values[:train_size])\n",
    "    X_test = np.array(df['data'].values[train_size:])\n",
    "    y_test = np.array(df['label'].values[train_size:])\n",
    "    print('Average train sequence length: {}'.format(np.mean(list(map(len, X_train)), dtype=int)))\n",
    "    print('Average test sequence length: {}'.format(np.mean(list(map(len, X_test)), dtype=int)))\n",
    "    return pad_sequences(X_train, maxlen=maxlen), y_train, pad_sequences(X_test, maxlen=maxlen), y_test"
   ]
  },
  {
   "cell_type": "code",
   "execution_count": 5,
   "id": "f27b4379",
   "metadata": {},
   "outputs": [],
   "source": [
    "def create_lstm(input_length, rnn_hidden_dim = RNN_HIDDEN_DIM, output_dim = OUTPUT_DIM, input_dim = INPUT_DIM, dropout = DROPOUT_RATIO):\n",
    "    model = Sequential()\n",
    "    model.add(Embedding(input_dim = INPUT_DIM, output_dim = output_dim, input_length = input_length, name='embedding_layer'))\n",
    "    model.add(Bidirectional(LSTM(rnn_hidden_dim, return_sequences=True)))\n",
    "    model.add(Dropout(dropout))\n",
    "    model.add(Bidirectional(LSTM(rnn_hidden_dim)))\n",
    "    model.add(Dropout(dropout))\n",
    "    model.add(Dense(1, activation='sigmoid'))\n",
    "    model.compile('adam', 'binary_crossentropy', metrics=['accuracy'])\n",
    "    return model"
   ]
  },
  {
   "cell_type": "code",
   "execution_count": 6,
   "id": "68eed81d",
   "metadata": {},
   "outputs": [
    {
     "name": "stdout",
     "output_type": "stream",
     "text": [
      "Loading data...\n",
      "Average train sequence length: 200\n",
      "Average test sequence length: 200\n"
     ]
    }
   ],
   "source": [
    "# train\n",
    "X_train, y_train, X_test, y_test = load_data()    \n",
    "model = create_lstm(len(X_train[0])) "
   ]
  },
  {
   "cell_type": "code",
   "execution_count": 7,
   "id": "cd70a9c9",
   "metadata": {},
   "outputs": [],
   "source": [
    "# save checkpoint\n",
    "filepath= \"./checkpoints/weights.hdf5\"\n",
    "checkpoint = ModelCheckpoint(filepath, monitor='val_acc', verbose=0, save_best_only=True, mode='max')\n",
    "callbacks_list = [checkpoint]"
   ]
  },
  {
   "cell_type": "code",
   "execution_count": 8,
   "id": "0b88f282",
   "metadata": {},
   "outputs": [
    {
     "name": "stdout",
     "output_type": "stream",
     "text": [
      "Epoch 1/30\n",
      "120/120 [==============================] - ETA: 0s - loss: 0.6778 - accuracy: 0.5703 WARNING:tensorflow:Can save best model only with val_acc available, skipping.\n",
      "120/120 [==============================] - 3315s 27s/step - loss: 0.6778 - accuracy: 0.5703 - val_loss: 0.6650 - val_accuracy: 0.5954\n",
      "Epoch 2/30\n",
      "120/120 [==============================] - ETA: 0s - loss: 0.6357 - accuracy: 0.6388 WARNING:tensorflow:Can save best model only with val_acc available, skipping.\n",
      "120/120 [==============================] - 3318s 28s/step - loss: 0.6357 - accuracy: 0.6388 - val_loss: 0.6201 - val_accuracy: 0.6526\n",
      "Epoch 3/30\n",
      "120/120 [==============================] - ETA: 0s - loss: 0.5952 - accuracy: 0.6816 WARNING:tensorflow:Can save best model only with val_acc available, skipping.\n",
      "120/120 [==============================] - 3980s 33s/step - loss: 0.5952 - accuracy: 0.6816 - val_loss: 0.6011 - val_accuracy: 0.6758\n",
      "Epoch 4/30\n",
      "120/120 [==============================] - ETA: 0s - loss: 0.5772 - accuracy: 0.6953 WARNING:tensorflow:Can save best model only with val_acc available, skipping.\n",
      "120/120 [==============================] - 3769s 31s/step - loss: 0.5772 - accuracy: 0.6953 - val_loss: 0.5864 - val_accuracy: 0.6848\n",
      "Epoch 5/30\n",
      "120/120 [==============================] - ETA: 0s - loss: 0.5662 - accuracy: 0.7037 WARNING:tensorflow:Can save best model only with val_acc available, skipping.\n",
      "120/120 [==============================] - 2664s 22s/step - loss: 0.5662 - accuracy: 0.7037 - val_loss: 0.5749 - val_accuracy: 0.6994\n",
      "Epoch 6/30\n",
      "120/120 [==============================] - ETA: 0s - loss: 0.5569 - accuracy: 0.7122 WARNING:tensorflow:Can save best model only with val_acc available, skipping.\n",
      "120/120 [==============================] - 2327s 19s/step - loss: 0.5569 - accuracy: 0.7122 - val_loss: 0.5685 - val_accuracy: 0.7035\n",
      "Epoch 7/30\n",
      "120/120 [==============================] - ETA: 0s - loss: 0.5528 - accuracy: 0.7147 WARNING:tensorflow:Can save best model only with val_acc available, skipping.\n",
      "120/120 [==============================] - 2309s 19s/step - loss: 0.5528 - accuracy: 0.7147 - val_loss: 0.5703 - val_accuracy: 0.7000\n",
      "Epoch 8/30\n",
      "120/120 [==============================] - ETA: 0s - loss: 0.5456 - accuracy: 0.7223 WARNING:tensorflow:Can save best model only with val_acc available, skipping.\n",
      "120/120 [==============================] - 2314s 19s/step - loss: 0.5456 - accuracy: 0.7223 - val_loss: 0.5553 - val_accuracy: 0.7132\n",
      "Epoch 9/30\n",
      "120/120 [==============================] - ETA: 0s - loss: 0.5431 - accuracy: 0.7235 WARNING:tensorflow:Can save best model only with val_acc available, skipping.\n",
      "120/120 [==============================] - 2355s 20s/step - loss: 0.5431 - accuracy: 0.7235 - val_loss: 0.5501 - val_accuracy: 0.7174\n",
      "Epoch 10/30\n",
      "120/120 [==============================] - ETA: 0s - loss: 0.5388 - accuracy: 0.7254 WARNING:tensorflow:Can save best model only with val_acc available, skipping.\n",
      "120/120 [==============================] - 2304s 19s/step - loss: 0.5388 - accuracy: 0.7254 - val_loss: 0.5587 - val_accuracy: 0.7106\n",
      "Epoch 11/30\n",
      "120/120 [==============================] - ETA: 0s - loss: 0.5342 - accuracy: 0.7289 WARNING:tensorflow:Can save best model only with val_acc available, skipping.\n",
      "120/120 [==============================] - 2308s 19s/step - loss: 0.5342 - accuracy: 0.7289 - val_loss: 0.5474 - val_accuracy: 0.7234\n",
      "Epoch 12/30\n",
      "120/120 [==============================] - ETA: 0s - loss: 0.5288 - accuracy: 0.7349 WARNING:tensorflow:Can save best model only with val_acc available, skipping.\n",
      "120/120 [==============================] - 2297s 19s/step - loss: 0.5288 - accuracy: 0.7349 - val_loss: 0.5453 - val_accuracy: 0.7233\n",
      "Epoch 13/30\n",
      "120/120 [==============================] - ETA: 0s - loss: 0.5231 - accuracy: 0.7376 WARNING:tensorflow:Can save best model only with val_acc available, skipping.\n",
      "120/120 [==============================] - 2322s 19s/step - loss: 0.5231 - accuracy: 0.7376 - val_loss: 0.5323 - val_accuracy: 0.7342\n",
      "Epoch 14/30\n",
      "120/120 [==============================] - ETA: 0s - loss: 0.5212 - accuracy: 0.7399 WARNING:tensorflow:Can save best model only with val_acc available, skipping.\n",
      "120/120 [==============================] - 2316s 19s/step - loss: 0.5212 - accuracy: 0.7399 - val_loss: 0.5380 - val_accuracy: 0.7263\n",
      "Epoch 15/30\n",
      "120/120 [==============================] - ETA: 0s - loss: 0.5150 - accuracy: 0.7434 WARNING:tensorflow:Can save best model only with val_acc available, skipping.\n",
      "120/120 [==============================] - 2297s 19s/step - loss: 0.5150 - accuracy: 0.7434 - val_loss: 0.5347 - val_accuracy: 0.7302\n",
      "Epoch 16/30\n",
      "120/120 [==============================] - ETA: 0s - loss: 0.5165 - accuracy: 0.7439 WARNING:tensorflow:Can save best model only with val_acc available, skipping.\n",
      "120/120 [==============================] - 2368s 20s/step - loss: 0.5165 - accuracy: 0.7439 - val_loss: 0.5344 - val_accuracy: 0.7307\n",
      "Epoch 17/30\n",
      "120/120 [==============================] - ETA: 0s - loss: 0.5091 - accuracy: 0.7489 WARNING:tensorflow:Can save best model only with val_acc available, skipping.\n",
      "120/120 [==============================] - 2339s 19s/step - loss: 0.5091 - accuracy: 0.7489 - val_loss: 0.5278 - val_accuracy: 0.7378\n",
      "Epoch 18/30\n",
      "120/120 [==============================] - ETA: 0s - loss: 0.5046 - accuracy: 0.7502 WARNING:tensorflow:Can save best model only with val_acc available, skipping.\n",
      "120/120 [==============================] - 2382s 20s/step - loss: 0.5046 - accuracy: 0.7502 - val_loss: 0.5263 - val_accuracy: 0.7367\n",
      "Epoch 19/30\n",
      "120/120 [==============================] - ETA: 0s - loss: 0.4949 - accuracy: 0.7562 WARNING:tensorflow:Can save best model only with val_acc available, skipping.\n",
      "120/120 [==============================] - 2434s 20s/step - loss: 0.4949 - accuracy: 0.7562 - val_loss: 0.5219 - val_accuracy: 0.7422\n",
      "Epoch 20/30\n",
      "120/120 [==============================] - ETA: 0s - loss: 0.4951 - accuracy: 0.7580 WARNING:tensorflow:Can save best model only with val_acc available, skipping.\n",
      "120/120 [==============================] - 2496s 21s/step - loss: 0.4951 - accuracy: 0.7580 - val_loss: 0.5179 - val_accuracy: 0.7432\n",
      "Epoch 21/30\n",
      "120/120 [==============================] - ETA: 0s - loss: 0.4888 - accuracy: 0.7619 WARNING:tensorflow:Can save best model only with val_acc available, skipping.\n",
      "120/120 [==============================] - 2551s 21s/step - loss: 0.4888 - accuracy: 0.7619 - val_loss: 0.5144 - val_accuracy: 0.7506\n",
      "Epoch 22/30\n",
      "120/120 [==============================] - ETA: 0s - loss: 0.4785 - accuracy: 0.7684 WARNING:tensorflow:Can save best model only with val_acc available, skipping.\n",
      "120/120 [==============================] - 2617s 22s/step - loss: 0.4785 - accuracy: 0.7684 - val_loss: 0.5217 - val_accuracy: 0.7432\n",
      "Epoch 23/30\n",
      "120/120 [==============================] - ETA: 0s - loss: 0.4922 - accuracy: 0.7590 WARNING:tensorflow:Can save best model only with val_acc available, skipping.\n",
      "120/120 [==============================] - 2677s 22s/step - loss: 0.4922 - accuracy: 0.7590 - val_loss: 0.5173 - val_accuracy: 0.7485\n",
      "Epoch 24/30\n",
      "120/120 [==============================] - ETA: 0s - loss: 0.4771 - accuracy: 0.7688 WARNING:tensorflow:Can save best model only with val_acc available, skipping.\n",
      "120/120 [==============================] - 2735s 23s/step - loss: 0.4771 - accuracy: 0.7688 - val_loss: 0.5258 - val_accuracy: 0.7446\n",
      "Epoch 25/30\n",
      "120/120 [==============================] - ETA: 0s - loss: 0.4643 - accuracy: 0.7788 WARNING:tensorflow:Can save best model only with val_acc available, skipping.\n",
      "120/120 [==============================] - 2794s 23s/step - loss: 0.4643 - accuracy: 0.7788 - val_loss: 0.5105 - val_accuracy: 0.7543\n",
      "Epoch 26/30\n",
      "120/120 [==============================] - ETA: 0s - loss: 0.4536 - accuracy: 0.7862 WARNING:tensorflow:Can save best model only with val_acc available, skipping.\n",
      "120/120 [==============================] - 2821s 24s/step - loss: 0.4536 - accuracy: 0.7862 - val_loss: 0.5048 - val_accuracy: 0.7615\n",
      "Epoch 27/30\n",
      "120/120 [==============================] - ETA: 0s - loss: 0.4503 - accuracy: 0.7857 WARNING:tensorflow:Can save best model only with val_acc available, skipping.\n"
     ]
    },
    {
     "name": "stdout",
     "output_type": "stream",
     "text": [
      "120/120 [==============================] - 2769s 23s/step - loss: 0.4503 - accuracy: 0.7857 - val_loss: 0.5092 - val_accuracy: 0.7534\n",
      "Epoch 28/30\n",
      "120/120 [==============================] - ETA: 0s - loss: 0.4417 - accuracy: 0.7926 WARNING:tensorflow:Can save best model only with val_acc available, skipping.\n",
      "120/120 [==============================] - 2779s 23s/step - loss: 0.4417 - accuracy: 0.7926 - val_loss: 0.4998 - val_accuracy: 0.7630\n",
      "Epoch 29/30\n",
      "120/120 [==============================] - ETA: 0s - loss: 0.4297 - accuracy: 0.7994 WARNING:tensorflow:Can save best model only with val_acc available, skipping.\n",
      "120/120 [==============================] - 2834s 24s/step - loss: 0.4297 - accuracy: 0.7994 - val_loss: 0.5004 - val_accuracy: 0.7648\n",
      "Epoch 30/30\n",
      "120/120 [==============================] - ETA: 0s - loss: 0.4215 - accuracy: 0.8045 WARNING:tensorflow:Can save best model only with val_acc available, skipping.\n",
      "120/120 [==============================] - 2905s 24s/step - loss: 0.4215 - accuracy: 0.8045 - val_loss: 0.4999 - val_accuracy: 0.7673\n"
     ]
    }
   ],
   "source": [
    "history = model.fit(X_train, y_train, batch_size=BATCH_SIZE,\n",
    "        epochs=EPCOHS, callbacks=callbacks_list, validation_split = 0.1, verbose = 1)"
   ]
  },
  {
   "cell_type": "code",
   "execution_count": 16,
   "id": "46f4cd04",
   "metadata": {
    "scrolled": true
   },
   "outputs": [
    {
     "data": {
      "image/png": "[encoded data removed]",
      "text/plain": [
       "<Figure size 432x432 with 1 Axes>"
      ]
     },
     "metadata": {
      "needs_background": "light"
     },
     "output_type": "display_data"
    }
   ],
   "source": [
    "###calculate AUC and draw plot\n",
    "fpr, tpr, threshold = metrics.roc_curve(y_test,model.predict(X_test))\n",
    "roc_auc = roc_auc_score(y_test,model.predict(X_test))\n",
    "plt.figure(figsize=(6,6))\n",
    "plt.title('Validation ROC')\n",
    "plt.plot(fpr, tpr, 'b', label = 'Val AUC = %0.3f' % roc_auc)\n",
    "plt.legend(loc = 'lower right')\n",
    "plt.plot([0, 1], [0, 1],'r--')\n",
    "plt.xlim([0, 1])\n",
    "plt.ylim([0, 1])\n",
    "plt.ylabel('True Positive Rate')\n",
    "plt.xlabel('False Positive Rate')\n",
    "plt.show()"
   ]
  },
  {
   "cell_type": "code",
   "execution_count": null,
   "id": "1b3603d4",
   "metadata": {},
   "outputs": [],
   "source": [
    "# serialize model to JSON\n",
    "model_json = model.to_json()\n",
    "with open(\"../models/model.json\", \"w\") as json_file:\n",
    "    json_file.write(model_json)"
   ]
  },
  {
   "cell_type": "code",
   "execution_count": null,
   "id": "0e031ad1",
   "metadata": {},
   "outputs": [],
   "source": [
    "# serialize weights to HDF5\n",
    "model.save_weights(\"../models/model.h5\")\n",
    "print(\"Saved model to disk\")"
   ]
  },
  {
   "cell_type": "code",
   "execution_count": null,
   "id": "3781efd0",
   "metadata": {},
   "outputs": [],
   "source": []
  }
 ],
 "metadata": {
  "kernelspec": {
   "display_name": "Python 3 (ipykernel)",
   "language": "python",
   "name": "python3"
  },
  "language_info": {
   "codemirror_mode": {
    "name": "ipython",
    "version": 3
   },
   "file_extension": ".py",
   "mimetype": "text/x-python",
   "name": "python",
   "nbconvert_exporter": "python",
   "pygments_lexer": "ipython3",
   "version": "3.9.7"
  }
 },
 "nbformat": 4,
 "nbformat_minor": 5
}
