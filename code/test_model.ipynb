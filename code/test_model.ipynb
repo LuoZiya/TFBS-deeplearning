{
 "cells": [
  {
   "cell_type": "code",
   "execution_count": 1,
   "id": "9d435670",
   "metadata": {},
   "outputs": [],
   "source": [
    "from keras.preprocessing.sequence import pad_sequences\n",
    "from keras.utils.data_utils import get_file\n",
    "from keras.models import Sequential\n",
    "from keras.models import model_from_json\n",
    "from keras import backend as K\n",
    "from sklearn import decomposition\n",
    "import pandas as pd\n",
    "import numpy as np\n",
    "import matplotlib.pyplot as plt"
   ]
  },
  {
   "cell_type": "code",
   "execution_count": 2,
   "id": "906eb60d",
   "metadata": {},
   "outputs": [],
   "source": [
    "def letter_to_index(letter):\n",
    "    _alphabet = 'ATGC'\n",
    "    return next((i for i, _letter in enumerate(_alphabet) if _letter == letter), None)"
   ]
  },
  {
   "cell_type": "code",
   "execution_count": 3,
   "id": "284971ed",
   "metadata": {},
   "outputs": [],
   "source": [
    "def load_test(input_file):\n",
    "    print('Loading data...')\n",
    "    df = pd.read_csv(input_file)\n",
    "    df['data'] = df['data'].apply(lambda x: [int(letter_to_index(e)) for e in x])\n",
    "#     df = df.reindex(np.random.permutation(df.index))\n",
    "    sample = df['data'].values[:len(df)]\n",
    "    label= df['label']\n",
    "    return pad_sequences(sample),label"
   ]
  },
  {
   "cell_type": "code",
   "execution_count": 4,
   "id": "808d08be",
   "metadata": {},
   "outputs": [],
   "source": [
    "\"\"\"File path \"\"\"\n",
    "model='../models/model.json'\n",
    "model_weight='../models/model.h5'"
   ]
  },
  {
   "cell_type": "code",
   "execution_count": 5,
   "id": "0535ae76",
   "metadata": {},
   "outputs": [],
   "source": [
    "\"\"\"read model file\"\"\"\n",
    "json_file = open(model, 'r')\n",
    "loaded_model_json = json_file.read()\n",
    "json_file.close()\n",
    "model = model_from_json(loaded_model_json)\n"
   ]
  },
  {
   "cell_type": "code",
   "execution_count": 6,
   "id": "9c6aba7e",
   "metadata": {},
   "outputs": [],
   "source": [
    "\"\"\"load model weights\"\"\"\n",
    "model.load_weights(model_weight)\n"
   ]
  },
  {
   "cell_type": "code",
   "execution_count": 8,
   "id": "18d2e860",
   "metadata": {},
   "outputs": [
    {
     "name": "stdout",
     "output_type": "stream",
     "text": [
      "Loading data...\n",
      "313/313 [==============================] - 28s 89ms/step\n"
     ]
    }
   ],
   "source": [
    "\"\"\"model prediction\"\"\"\n",
    "X,Label = load_test('../data/test.csv')\n",
    "y = model.predict(X, verbose=1)\n",
    "# ids = get_ids()\n",
    "probabilities = y[:, 0]\n",
    "result=np.zeros(len(y))\n",
    "result[probabilities>0.5]=1\n",
    "df = pd.DataFrame(result)\n",
    "\"\"\"save predicted file\"\"\"\n",
    "df.to_csv('../result/train-test_report.txt', index=False)"
   ]
  },
  {
   "cell_type": "code",
   "execution_count": null,
   "id": "65e7aaae",
   "metadata": {},
   "outputs": [],
   "source": []
  }
 ],
 "metadata": {
  "kernelspec": {
   "display_name": "Python 3 (ipykernel)",
   "language": "python",
   "name": "python3"
  },
  "language_info": {
   "codemirror_mode": {
    "name": "ipython",
    "version": 3
   },
   "file_extension": ".py",
   "mimetype": "text/x-python",
   "name": "python",
   "nbconvert_exporter": "python",
   "pygments_lexer": "ipython3",
   "version": "3.9.7"
  }
 },
 "nbformat": 4,
 "nbformat_minor": 5
}
